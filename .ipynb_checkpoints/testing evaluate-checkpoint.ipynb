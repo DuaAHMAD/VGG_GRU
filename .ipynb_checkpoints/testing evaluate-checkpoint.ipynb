{
 "cells": [
  {
   "cell_type": "code",
   "execution_count": 1,
   "metadata": {},
   "outputs": [],
   "source": [
    "from __future__ import print_function\n",
    "\n",
    "import os\n",
    "import time\n",
    "import torch\n",
    "import torch.nn as nn\n",
    "import torch.nn.functional as F\n",
    "import torch.optim as optim\n",
    "import torch.backends.cudnn as cudnn\n",
    "from torchvision import datasets, transforms\n",
    "from torch.autograd import Variable\n",
    "from torchvision import models\n",
    "import numpy\n",
    "import dataset\n",
    "import random\n",
    "from utils import *\n",
    "from VGG_gru import FERANet\n",
    "# from tensorboardX import SummaryWriter\n",
    "import argparse\n",
    "import subprocess\n",
    "import math"
   ]
  },
  {
   "cell_type": "code",
   "execution_count": 2,
   "metadata": {},
   "outputs": [],
   "source": [
    "# os.environ['CUDA_VISIBLE_DEVICES'] = \"1\"\n",
    "\n",
    "description='PyTorch Facial Expression'\n",
    "batch_size = 1\n",
    "epochs = 10 #120\n",
    "length = 32\n",
    "preInitial = True\n",
    "# dataset = 'Emotiw'"
   ]
  },
  {
   "cell_type": "code",
   "execution_count": 3,
   "metadata": {},
   "outputs": [],
   "source": [
    "vallist =  \"/home/dua/Desktop/GRU-test/emotion_classification-master/VGG_GRU/TrainTestlist/Emotiw/\"+\"VAL.txt\""
   ]
  },
  {
   "cell_type": "code",
   "execution_count": 5,
   "metadata": {},
   "outputs": [],
   "source": [
    "path_d= \"/home/dua/Desktop/GRU-test/emotion_classification-master/VGG_GRU/dataset.py\"\n",
    "if os.path.isfile != True:\n",
    "\tsubprocess.call([\"python\", path_d])"
   ]
  },
  {
   "cell_type": "code",
   "execution_count": 6,
   "metadata": {},
   "outputs": [],
   "source": [
    "backupdir     = \"/home/dua/Desktop/GRU-test/emotion_classification-master/VGG_GRU/weight\"\n",
    "batch_size    = 1\n",
    "learning_rate = 0.00001\n",
    "\n",
    "# accuracy = 0.\n",
    "# best_accuracy = 0.\n",
    "metric = AccumulatedAccuracyMetric()\n",
    "\n",
    "####here for same result#####\n",
    "num_workers   = 0\n",
    "# torch.backends.cudnn.enabled = False\n",
    "torch.manual_seed(1)\n",
    "torch.cuda.manual_seed(1)\n",
    "random.seed(1)\n",
    "torch.backends.cudnn.benchmark = True\n",
    "# torch.backends.cudnn.deterministic = True"
   ]
  },
  {
   "cell_type": "code",
   "execution_count": 8,
   "metadata": {},
   "outputs": [
    {
     "name": "stdout",
     "output_type": "stream",
     "text": [
      "start loading vgg16 pre-fera2013 model...\n",
      "finish loading vgg16 pre-fera2013 model!\n"
     ]
    }
   ],
   "source": [
    "if preInitial == True:\n",
    "\tmodel = FERANet()\n",
    "\tmodel = Initial(model)\n",
    "else:\n",
    "\tmodel = FERANet()"
   ]
  },
  {
   "cell_type": "code",
   "execution_count": 9,
   "metadata": {},
   "outputs": [],
   "source": [
    "processed_batches = 0\n",
    "kwargs = {'num_workers': num_workers, 'pin_memory': True}\n",
    "model = model.cuda()\n",
    "\n",
    "\n",
    "optimizer = optim.SGD(model.parameters(), lr=learning_rate , momentum=0.9, weight_decay= 0.00005)\n",
    "\n",
    "loss_function = nn.CrossEntropyLoss()\n",
    "\n",
    "use_Tensorboard = False"
   ]
  },
  {
   "cell_type": "code",
   "execution_count": null,
   "metadata": {},
   "outputs": [],
   "source": [
    "## evaluating a model:\n",
    "\n",
    "model.eval()\n",
    "\n",
    "# \tglobal best_accuracy\n",
    "# \tglobal accuracy\n",
    "\n",
    "metric.reset()\n",
    "\n",
    "accuracy = 0.\n",
    "best_accuracy = 0.\n",
    "\n",
    "test_loader = torch.utils.data.DataLoader(\n",
    "    dataset.listDataset(vallist,length = length,\n",
    "                shuffle=False,\n",
    "                train=False,\n",
    "                dataset = dataset),\n",
    "                batch_size=1, shuffle=False, **kwargs)\n",
    "\n",
    "\n",
    "for batch_idx, (data, label) in enumerate(test_loader):\n",
    "\n",
    "#     data = data.squeeze(0)\n",
    "\n",
    "#     Batch,T,C,H,W = data.size()\n",
    "\n",
    "#     data = Variable(data,volatile=True).cuda()\n",
    "\n",
    "#     label = Variable(label.long(),volatile=True).cuda()\n",
    "#     label = label.squeeze(1)\n",
    "#     print('label')\n",
    "#     output = []\n",
    "#     for batch_index in range(Batch):\n",
    "# # \t\t\tprint(batch_index)            \n",
    "#         output_feature = model(data[batch_index])\n",
    "\n",
    "#         output.append(output_feature)\n",
    "\n",
    "#     output = torch.mean(torch.cat(output), 0, keepdim=True)\n",
    "\n",
    "\n",
    "#     metric(output, label) \n",
    "# # \t\tprint(metric.value())\n",
    "\n",
    "#     accuracy, eval_loss = metric.value()\n",
    "# # \t\tprint(accuracy)\n",
    "\n",
    "\n",
    "# if accuracy >= best_accuracy:\n",
    "#     best_accuracy = accuracy\n",
    "#     print(\"saving accuracy is: \",accuracy)\n",
    "#     torch.save(model.state_dict(),'%s/model_%d.pkl' % (backupdir,epoch))\n",
    "\n",
    "# logging(\"test accuracy: %f\" % (accuracy))\n",
    "# logging(\"best accuracy: %f\" % (best_accuracy))"
   ]
  }
 ],
 "metadata": {
  "kernelspec": {
   "display_name": "Python 3",
   "language": "python",
   "name": "python3"
  },
  "language_info": {
   "codemirror_mode": {
    "name": "ipython",
    "version": 3
   },
   "file_extension": ".py",
   "mimetype": "text/x-python",
   "name": "python",
   "nbconvert_exporter": "python",
   "pygments_lexer": "ipython3",
   "version": "3.7.4"
  }
 },
 "nbformat": 4,
 "nbformat_minor": 2
}
