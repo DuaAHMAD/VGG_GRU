{
 "cells": [
  {
   "cell_type": "code",
   "execution_count": 1,
   "metadata": {},
   "outputs": [
    {
     "name": "stdout",
     "output_type": "stream",
     "text": [
      "1.2.0\n"
     ]
    }
   ],
   "source": [
    "import torch\n",
    "print(torch.__version__)"
   ]
  },
  {
   "cell_type": "code",
   "execution_count": 2,
   "metadata": {},
   "outputs": [],
   "source": [
    "from __future__ import print_function\n",
    "\n",
    "import os\n",
    "import time\n",
    "import torch\n",
    "import torch.nn as nn\n",
    "import torch.nn.functional as F\n",
    "import torch.optim as optim\n",
    "import torch.backends.cudnn as cudnn\n",
    "from torchvision import datasets, transforms\n",
    "from torch.autograd import Variable\n",
    "from torchvision import models\n",
    "import numpy\n",
    "import dataset\n",
    "import random\n",
    "from utils import *\n",
    "from VGG_gru import FERANet\n",
    "# from tensorboardX import SummaryWriter\n",
    "import argparse\n",
    "import subprocess\n",
    "import math"
   ]
  },
  {
   "cell_type": "code",
   "execution_count": 3,
   "metadata": {},
   "outputs": [],
   "source": [
    "# os.environ['CUDA_VISIBLE_DEVICES'] = \"1\"\n",
    "\n",
    "description='PyTorch Facial Expression'\n",
    "batch_size = 1\n",
    "epochs = 20 #120\n",
    "length = 32\n",
    "preInitial = True\n",
    "# dataset = 'Emotiw'"
   ]
  },
  {
   "cell_type": "code",
   "execution_count": 4,
   "metadata": {},
   "outputs": [],
   "source": [
    "trn= \"BDItrain2.txt\"\n",
    "vl= \"BDIval2.txt\"\n",
    "tst= \"BDItest2.txt\""
   ]
  },
  {
   "cell_type": "code",
   "execution_count": 5,
   "metadata": {},
   "outputs": [],
   "source": [
    "trainlist = \"/home/dua/Desktop/GRU-test/emotion_classification-master/VGG_GRU/TrainTestlist/Emotiw/\"+trn\n",
    "vallist =  \"/home/dua/Desktop/GRU-test/emotion_classification-master/VGG_GRU/TrainTestlist/Emotiw/\"+vl\n",
    "testlist =  \"/home/dua/Desktop/GRU-test/emotion_classification-master/VGG_GRU/TrainTestlist/Emotiw/\"+tst"
   ]
  },
  {
   "cell_type": "code",
   "execution_count": 6,
   "metadata": {
    "scrolled": true
   },
   "outputs": [
    {
     "name": "stdout",
     "output_type": "stream",
     "text": [
      "/home/dua/Desktop/GRU-test/emotion_classification-master/VGG_GRU/TrainTestlist/Emotiw/BDItrain2.txt\n"
     ]
    }
   ],
   "source": [
    "print(trainlist)"
   ]
  },
  {
   "cell_type": "code",
   "execution_count": 7,
   "metadata": {},
   "outputs": [],
   "source": [
    "path_d= \"/home/dua/Desktop/GRU-test/emotion_classification-master/VGG_GRU/dataset.py\""
   ]
  },
  {
   "cell_type": "code",
   "execution_count": 8,
   "metadata": {},
   "outputs": [],
   "source": [
    "if os.path.isfile != True:\n",
    "\tsubprocess.call([\"python\", path_d])"
   ]
  },
  {
   "cell_type": "code",
   "execution_count": 9,
   "metadata": {},
   "outputs": [],
   "source": [
    "# if os.path.isfile != True:\n",
    "# \tsubprocess.call([\"python\", \"./TrainTestlist/\"+dataset+\"/getTraintest_\"+dataset+\".py\"])"
   ]
  },
  {
   "cell_type": "code",
   "execution_count": 10,
   "metadata": {},
   "outputs": [],
   "source": [
    "backupdir     = \"/tmp/dua/GRU\"\n",
    "batch_size    = 1\n",
    "# learning_rate = 0.00001\n",
    "learning_rate = 0.0001\n",
    "\n",
    "# accuracy = 0.\n",
    "# best_accuracy = 0.\n",
    "metric = AccumulatedAccuracyMetric()\n",
    "\n",
    "####here for same result#####\n",
    "num_workers   = 0\n",
    "# torch.backends.cudnn.enabled = False\n",
    "torch.manual_seed(1)\n",
    "torch.cuda.manual_seed(1)\n",
    "random.seed(1)\n",
    "torch.backends.cudnn.benchmark = True\n",
    "# torch.backends.cudnn.deterministic = True"
   ]
  },
  {
   "cell_type": "code",
   "execution_count": 11,
   "metadata": {},
   "outputs": [
    {
     "name": "stdout",
     "output_type": "stream",
     "text": [
      "start loading vgg16 pre-fera2013 model...\n",
      "finish loading vgg16 pre-fera2013 model!\n"
     ]
    }
   ],
   "source": [
    "if preInitial == True:\n",
    "\tmodel = FERANet()\n",
    "\tmodel = Initial(model)\n",
    "else:\n",
    "\tmodel = FERANet()"
   ]
  },
  {
   "cell_type": "code",
   "execution_count": 12,
   "metadata": {},
   "outputs": [],
   "source": [
    "processed_batches = 0\n",
    "kwargs = {'num_workers': num_workers, 'pin_memory': True}\n",
    "model = model.cuda()\n",
    "\n",
    "\n",
    "optimizer = optim.SGD(model.parameters(), lr=learning_rate , momentum=0.9, weight_decay= 0.00005)\n",
    "\n",
    "loss_function = nn.CrossEntropyLoss()\n",
    "\n",
    "use_Tensorboard = False"
   ]
  },
  {
   "cell_type": "code",
   "execution_count": 13,
   "metadata": {},
   "outputs": [],
   "source": [
    "def train(epoch,optimizer):\n",
    "\n",
    "\n",
    "\ttrain_loader = torch.utils.data.DataLoader(\n",
    "\t\tdataset.listDataset(trainlist,length = length,\n",
    "\t\t\t\t\t   shuffle=True,\n",
    "\t\t\t\t\t   train=True,\n",
    "\t\t\t\t\t   dataset = dataset),\n",
    "\t\tbatch_size=batch_size, shuffle=False, **kwargs)\n",
    "\n",
    "\n",
    "\tfor param_group in optimizer.param_groups:\n",
    "\t\ttrain_learning_rate = float(param_group['lr'])\n",
    "\n",
    "\tlogging('epoch %d, processed %d samples, lr %f' % (epoch, epoch * len(train_loader.dataset), train_learning_rate))\n",
    "\n",
    "\trunning_loss = 0.0\n",
    "\n",
    "\tmodel.train()\n",
    "\n",
    "\tfor batch_idx, (data, label) in enumerate(train_loader):\n",
    "\n",
    "\n",
    "\t\tdata = data.squeeze(0)\n",
    "\t\tdata = Variable(data).cuda()\n",
    "\n",
    "\t\tlabel = Variable(label.long()).cuda()\n",
    "\t\tlabel = label.squeeze(1)\n",
    "\n",
    "\t\toptimizer.zero_grad()\n",
    "\n",
    "\t\toutput = model(data)\n",
    "\n",
    "\t\tloss = loss_function(output, label)\n",
    "\n",
    "\t\trunning_loss += loss.data\n",
    "\n",
    "\t\tloss.backward()\n",
    "\n",
    "\t\toptimizer.step()\n",
    "\n",
    "\tif epoch %1 == 0:\n",
    "\t\tlogging('Loss:{:.6f}'.format(running_loss))"
   ]
  },
  {
   "cell_type": "code",
   "execution_count": 14,
   "metadata": {},
   "outputs": [],
   "source": [
    "def eval(epoch,metric):\n",
    "\n",
    "\tmodel.eval()\n",
    "\n",
    "# \tglobal best_accuracy\n",
    "# \tglobal accuracy\n",
    "\n",
    "\tmetric.reset()\n",
    "    \n",
    "\taccuracy = 0.\n",
    "\tbest_accuracy = 0.\n",
    "    \n",
    "\ttest_loader = torch.utils.data.DataLoader(\n",
    "# \t\tdataset.listDataset(vallist,length = length,\n",
    "\t\tdataset.listDataset(vallist,length = length,        \n",
    "\t\t\t\t\tshuffle=False,\n",
    "\t\t\t\t\ttrain=False,\n",
    "\t\t\t\t\tdataset = dataset),\n",
    "\t\t\t\t\tbatch_size=1, shuffle=False, **kwargs)\n",
    "\n",
    "\n",
    "\tfor batch_idx, (data, label) in enumerate(test_loader):\n",
    "\n",
    "\t\tdata = data.squeeze(0)\n",
    "\n",
    "\t\tBatch,T,C,H,W = data.size()\n",
    "\n",
    "\t\tdata = Variable(data,volatile=True).cuda()\n",
    "\n",
    "\t\tlabel = Variable(label.long(),volatile=True).cuda()\n",
    "\t\tlabel = label.squeeze(1)\n",
    "# \t\tprint('label')\n",
    "\t\toutput = []\n",
    "\t\tfor batch_index in range(Batch):\n",
    "# \t\t\tprint(batch_index)            \n",
    "\t\t\toutput_feature = model(data[batch_index])\n",
    "\n",
    "\t\t\toutput.append(output_feature)\n",
    "\n",
    "\t\toutput = torch.mean(torch.cat(output), 0, keepdim=True)\n",
    "        \n",
    "\n",
    "\t\tmetric(output, label) \n",
    "# \t\tprint(metric.value())\n",
    "\n",
    "\t\taccuracy, eval_loss = metric.value()\n",
    "# \t\tprint(accuracy)\n",
    "\n",
    "        \n",
    "\tif accuracy >= best_accuracy:\n",
    "\t\tbest_accuracy = accuracy\n",
    "\t\tprint(\"saving accuracy is: \",accuracy)\n",
    "\t\ttorch.save(model.state_dict(),'%s/model_%d.pkl' % (backupdir,epoch))\n",
    "\n",
    "\tlogging(\"test accuracy: %f\" % (accuracy))\n",
    "\tlogging(\"best accuracy: %f\" % (best_accuracy))\n",
    "\n",
    "\treturn accuracy"
   ]
  },
  {
   "cell_type": "code",
   "execution_count": 15,
   "metadata": {},
   "outputs": [],
   "source": [
    "def test(epoch,metric):\n",
    "\n",
    "\tmodel.eval()\n",
    "\n",
    "# \tglobal best_accuracy\n",
    "# \tglobal accuracy\n",
    "\n",
    "\tmetric.reset()\n",
    "    \n",
    "\taccuracy = 0.\n",
    "\tbest_accuracy = 0.\n",
    "    \n",
    "\ttest_loader = torch.utils.data.DataLoader(\n",
    "# \t\tdataset.listDataset(vallist,length = length,\n",
    "\t\tdataset.listDataset(testlist,length = length,        \n",
    "\t\t\t\t\tshuffle=False,\n",
    "\t\t\t\t\ttrain=False,\n",
    "\t\t\t\t\tdataset = dataset),\n",
    "\t\t\t\t\tbatch_size=1, shuffle=False, **kwargs)\n",
    "\n",
    "\n",
    "\tfor batch_idx, (data, label) in enumerate(test_loader):\n",
    "\n",
    "\t\tdata = data.squeeze(0)\n",
    "\n",
    "\t\tBatch,T,C,H,W = data.size()\n",
    "\n",
    "\t\tdata = Variable(data,volatile=True).cuda()\n",
    "\n",
    "\t\tlabel = Variable(label.long(),volatile=True).cuda()\n",
    "\t\tlabel = label.squeeze(1)\n",
    "# \t\tprint('label')\n",
    "\t\toutput = []\n",
    "\t\tfor batch_index in range(Batch):\n",
    "# \t\t\tprint(batch_index)            \n",
    "\t\t\toutput_feature = model(data[batch_index])\n",
    "\n",
    "\t\t\toutput.append(output_feature)\n",
    "\n",
    "\t\toutput = torch.mean(torch.cat(output), 0, keepdim=True)\n",
    "        \n",
    "\n",
    "\t\tmetric(output, label) \n",
    "# \t\tprint(metric.value())\n",
    "\n",
    "\t\taccuracy, eval_loss = metric.value()\n",
    "# \t\tprint(accuracy)\n",
    "\n",
    "        \n",
    "\tif accuracy >= best_accuracy:\n",
    "\t\tbest_accuracy = accuracy\n",
    "# \t\tprint(\"saving accuracy is: \",accuracy)\n",
    "# \t\ttorch.save(model.state_dict(),'%s/model_%d.pkl' % (backupdir,epoch))\n",
    "\n",
    "\tlogging(\"test accuracy: %f\" % (accuracy))\n",
    "\tlogging(\"best accuracy: %f\" % (best_accuracy))\n",
    "\n",
    "\treturn accuracy"
   ]
  },
  {
   "cell_type": "code",
   "execution_count": 16,
   "metadata": {},
   "outputs": [
    {
     "name": "stdout",
     "output_type": "stream",
     "text": [
      "2020-09-23 10:57:39 epoch 1, processed 36 samples, lr 0.000100\n",
      "2020-09-23 10:57:55 Loss:25.270863\n"
     ]
    },
    {
     "name": "stderr",
     "output_type": "stream",
     "text": [
      "/home/dua/anaconda3/envs/fastai/lib/python3.7/site-packages/ipykernel_launcher.py:28: UserWarning: volatile was removed and now has no effect. Use `with torch.no_grad():` instead.\n",
      "/home/dua/anaconda3/envs/fastai/lib/python3.7/site-packages/ipykernel_launcher.py:30: UserWarning: volatile was removed and now has no effect. Use `with torch.no_grad():` instead.\n"
     ]
    },
    {
     "name": "stdout",
     "output_type": "stream",
     "text": [
      "saving accuracy is:  0.9166666666666666\n",
      "2020-09-23 11:04:16 test accuracy: 0.916667\n",
      "2020-09-23 11:04:16 best accuracy: 0.916667\n",
      "2020-09-23 11:04:16 epoch 2, processed 72 samples, lr 0.000100\n",
      "2020-09-23 11:04:28 Loss:20.925453\n",
      "saving accuracy is:  0.8333333333333334\n",
      "2020-09-23 11:10:49 test accuracy: 0.833333\n",
      "2020-09-23 11:10:49 best accuracy: 0.833333\n",
      "2020-09-23 11:10:49 epoch 3, processed 108 samples, lr 0.000100\n",
      "2020-09-23 11:11:01 Loss:12.869440\n",
      "saving accuracy is:  0.9166666666666666\n",
      "2020-09-23 11:17:26 test accuracy: 0.916667\n",
      "2020-09-23 11:17:26 best accuracy: 0.916667\n",
      "2020-09-23 11:17:26 epoch 4, processed 144 samples, lr 0.000100\n",
      "2020-09-23 11:17:38 Loss:12.133998\n",
      "saving accuracy is:  0.8333333333333334\n",
      "2020-09-23 11:24:02 test accuracy: 0.833333\n",
      "2020-09-23 11:24:02 best accuracy: 0.833333\n",
      "2020-09-23 11:24:02 epoch 5, processed 180 samples, lr 0.000100\n",
      "2020-09-23 11:24:14 Loss:9.744583\n",
      "saving accuracy is:  0.75\n",
      "2020-09-23 11:30:35 test accuracy: 0.750000\n",
      "2020-09-23 11:30:35 best accuracy: 0.750000\n",
      "2020-09-23 11:30:35 epoch 6, processed 216 samples, lr 0.000100\n",
      "2020-09-23 11:30:47 Loss:7.428223\n",
      "saving accuracy is:  0.8333333333333334\n",
      "2020-09-23 11:37:15 test accuracy: 0.833333\n",
      "2020-09-23 11:37:15 best accuracy: 0.833333\n",
      "2020-09-23 11:37:15 epoch 7, processed 252 samples, lr 0.000100\n",
      "2020-09-23 11:37:27 Loss:5.368846\n",
      "saving accuracy is:  0.8333333333333334\n",
      "2020-09-23 11:43:52 test accuracy: 0.833333\n",
      "2020-09-23 11:43:52 best accuracy: 0.833333\n",
      "2020-09-23 11:43:52 epoch 8, processed 288 samples, lr 0.000100\n",
      "2020-09-23 11:44:05 Loss:4.714110\n",
      "saving accuracy is:  0.75\n",
      "2020-09-23 11:50:22 test accuracy: 0.750000\n",
      "2020-09-23 11:50:22 best accuracy: 0.750000\n",
      "2020-09-23 11:50:22 epoch 9, processed 324 samples, lr 0.000100\n",
      "2020-09-23 11:50:34 Loss:5.161640\n",
      "saving accuracy is:  0.8333333333333334\n",
      "2020-09-23 11:56:49 test accuracy: 0.833333\n",
      "2020-09-23 11:56:49 best accuracy: 0.833333\n",
      "2020-09-23 11:56:49 epoch 10, processed 360 samples, lr 0.000100\n",
      "2020-09-23 11:57:01 Loss:4.005979\n",
      "saving accuracy is:  0.75\n",
      "2020-09-23 12:03:23 test accuracy: 0.750000\n",
      "2020-09-23 12:03:23 best accuracy: 0.750000\n",
      "2020-09-23 12:03:23 epoch 11, processed 396 samples, lr 0.000100\n",
      "2020-09-23 12:03:35 Loss:3.664347\n",
      "saving accuracy is:  0.8333333333333334\n",
      "2020-09-23 12:09:52 test accuracy: 0.833333\n",
      "2020-09-23 12:09:52 best accuracy: 0.833333\n",
      "2020-09-23 12:09:52 epoch 12, processed 432 samples, lr 0.000100\n",
      "2020-09-23 12:10:04 Loss:3.138961\n",
      "saving accuracy is:  0.8333333333333334\n",
      "2020-09-23 12:16:21 test accuracy: 0.833333\n",
      "2020-09-23 12:16:21 best accuracy: 0.833333\n",
      "2020-09-23 12:16:21 epoch 13, processed 468 samples, lr 0.000100\n",
      "2020-09-23 12:16:33 Loss:1.813047\n",
      "saving accuracy is:  0.8333333333333334\n",
      "2020-09-23 12:22:43 test accuracy: 0.833333\n",
      "2020-09-23 12:22:43 best accuracy: 0.833333\n",
      "2020-09-23 12:22:43 epoch 14, processed 504 samples, lr 0.000100\n",
      "2020-09-23 12:22:55 Loss:1.704890\n",
      "saving accuracy is:  0.75\n",
      "2020-09-23 12:29:15 test accuracy: 0.750000\n",
      "2020-09-23 12:29:15 best accuracy: 0.750000\n",
      "2020-09-23 12:29:15 epoch 15, processed 540 samples, lr 0.000100\n",
      "2020-09-23 12:29:27 Loss:1.778577\n",
      "saving accuracy is:  0.8333333333333334\n",
      "2020-09-23 12:34:12 test accuracy: 0.833333\n",
      "2020-09-23 12:34:12 best accuracy: 0.833333\n",
      "2020-09-23 12:34:12 epoch 16, processed 576 samples, lr 0.000100\n",
      "2020-09-23 12:34:24 Loss:0.966203\n",
      "saving accuracy is:  0.75\n",
      "2020-09-23 12:38:47 test accuracy: 0.750000\n",
      "2020-09-23 12:38:47 best accuracy: 0.750000\n",
      "2020-09-23 12:38:47 epoch 17, processed 612 samples, lr 0.000100\n",
      "2020-09-23 12:38:58 Loss:0.996817\n",
      "saving accuracy is:  0.75\n",
      "2020-09-23 12:43:17 test accuracy: 0.750000\n",
      "2020-09-23 12:43:17 best accuracy: 0.750000\n",
      "2020-09-23 12:43:17 epoch 18, processed 648 samples, lr 0.000100\n",
      "2020-09-23 12:43:28 Loss:0.846792\n",
      "saving accuracy is:  0.8333333333333334\n",
      "2020-09-23 12:47:46 test accuracy: 0.833333\n",
      "2020-09-23 12:47:46 best accuracy: 0.833333\n",
      "2020-09-23 12:47:46 epoch 19, processed 684 samples, lr 0.000100\n",
      "2020-09-23 12:47:57 Loss:0.814176\n",
      "saving accuracy is:  0.8333333333333334\n",
      "2020-09-23 12:52:09 test accuracy: 0.833333\n",
      "2020-09-23 12:52:09 best accuracy: 0.833333\n",
      "2020-09-23 12:52:09 epoch 20, processed 720 samples, lr 0.000100\n",
      "2020-09-23 12:52:20 Loss:0.730676\n",
      "saving accuracy is:  0.75\n",
      "2020-09-23 12:56:35 test accuracy: 0.750000\n",
      "2020-09-23 12:56:35 best accuracy: 0.750000\n"
     ]
    }
   ],
   "source": [
    "for epoch in range(1, epochs+1): \n",
    "\n",
    "\ttrain(epoch,optimizer)\n",
    "\twith torch.no_grad():\n",
    "\t\teval_accuary = eval(epoch,metric)"
   ]
  },
  {
   "cell_type": "code",
   "execution_count": 17,
   "metadata": {},
   "outputs": [
    {
     "name": "stderr",
     "output_type": "stream",
     "text": [
      "/home/dua/anaconda3/envs/fastai/lib/python3.7/site-packages/ipykernel_launcher.py:28: UserWarning: volatile was removed and now has no effect. Use `with torch.no_grad():` instead.\n",
      "/home/dua/anaconda3/envs/fastai/lib/python3.7/site-packages/ipykernel_launcher.py:30: UserWarning: volatile was removed and now has no effect. Use `with torch.no_grad():` instead.\n"
     ]
    },
    {
     "name": "stdout",
     "output_type": "stream",
     "text": [
      "2020-09-23 13:00:47 test accuracy: 0.833333\n",
      "2020-09-23 13:00:47 best accuracy: 0.833333\n",
      "2020-09-23 13:04:57 test accuracy: 0.833333\n",
      "2020-09-23 13:04:57 best accuracy: 0.833333\n",
      "2020-09-23 13:09:12 test accuracy: 0.833333\n",
      "2020-09-23 13:09:12 best accuracy: 0.833333\n",
      "2020-09-23 13:13:23 test accuracy: 0.833333\n",
      "2020-09-23 13:13:23 best accuracy: 0.833333\n",
      "2020-09-23 13:17:30 test accuracy: 0.833333\n",
      "2020-09-23 13:17:30 best accuracy: 0.833333\n",
      "2020-09-23 13:21:45 test accuracy: 0.833333\n",
      "2020-09-23 13:21:45 best accuracy: 0.833333\n",
      "2020-09-23 13:25:52 test accuracy: 0.833333\n",
      "2020-09-23 13:25:52 best accuracy: 0.833333\n",
      "2020-09-23 13:30:02 test accuracy: 0.833333\n",
      "2020-09-23 13:30:02 best accuracy: 0.833333\n",
      "2020-09-23 13:34:11 test accuracy: 0.833333\n",
      "2020-09-23 13:34:11 best accuracy: 0.833333\n",
      "2020-09-23 13:38:12 test accuracy: 0.833333\n",
      "2020-09-23 13:38:12 best accuracy: 0.833333\n",
      "2020-09-23 13:42:23 test accuracy: 0.833333\n",
      "2020-09-23 13:42:23 best accuracy: 0.833333\n",
      "2020-09-23 13:46:30 test accuracy: 0.833333\n",
      "2020-09-23 13:46:30 best accuracy: 0.833333\n",
      "2020-09-23 13:50:33 test accuracy: 0.833333\n",
      "2020-09-23 13:50:33 best accuracy: 0.833333\n",
      "2020-09-23 13:54:30 test accuracy: 0.833333\n",
      "2020-09-23 13:54:30 best accuracy: 0.833333\n",
      "2020-09-23 13:58:41 test accuracy: 0.833333\n",
      "2020-09-23 13:58:41 best accuracy: 0.833333\n",
      "2020-09-23 14:02:50 test accuracy: 0.833333\n",
      "2020-09-23 14:02:50 best accuracy: 0.833333\n",
      "2020-09-23 14:08:18 test accuracy: 0.833333\n",
      "2020-09-23 14:08:18 best accuracy: 0.833333\n",
      "2020-09-23 14:14:19 test accuracy: 0.833333\n",
      "2020-09-23 14:14:19 best accuracy: 0.833333\n",
      "2020-09-23 14:20:25 test accuracy: 0.833333\n",
      "2020-09-23 14:20:25 best accuracy: 0.833333\n",
      "2020-09-23 14:26:35 test accuracy: 0.833333\n",
      "2020-09-23 14:26:35 best accuracy: 0.833333\n"
     ]
    }
   ],
   "source": [
    "for epoch in range(1, epochs+1): \n",
    "\twith torch.no_grad():\n",
    "\t\teval_accuary = test(epoch,metric)"
   ]
  }
 ],
 "metadata": {
  "kernelspec": {
   "display_name": "Python 3",
   "language": "python",
   "name": "python3"
  },
  "language_info": {
   "codemirror_mode": {
    "name": "ipython",
    "version": 3
   },
   "file_extension": ".py",
   "mimetype": "text/x-python",
   "name": "python",
   "nbconvert_exporter": "python",
   "pygments_lexer": "ipython3",
   "version": "3.7.4"
  }
 },
 "nbformat": 4,
 "nbformat_minor": 2
}
