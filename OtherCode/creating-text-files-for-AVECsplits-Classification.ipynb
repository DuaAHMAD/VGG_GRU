{
 "cells": [
  {
   "cell_type": "code",
   "execution_count": 1,
   "metadata": {},
   "outputs": [],
   "source": [
    "from fastai import *\n",
    "from fastai.vision import *\n",
    "from fastai.callbacks import CSVLogger\n",
    "import os.path as osp"
   ]
  },
  {
   "cell_type": "code",
   "execution_count": 2,
   "metadata": {},
   "outputs": [],
   "source": [
    "S1 = ['204_1','206_1','214_1','225_2','317_1','213_1','213_2','203_1','211_1','220_2','240_1','207_2','218_2','228_2','229_1','229_2','234_1', '215_3', '239_1','239_2']\n",
    "S2 = ['221_1','230_1','214_2','227_1','317_3','241_1','241_2','222_1','226_1','243_1','240_2','208_1','208_2','234_3','236_1','236_2','237_2', '310_1', '310_3','S321_1']\n",
    "S3 = ['231_1','233_1','217_2','227_2','242_2','213_3','241_3','308_3','312_2','313_3','205_1','209_1','209_2','237_3','238_2','238_3','318_1', '320_1', '215_1','215_2']\n",
    "S4 = ['244_1','324_1','217_3','232_1','242_3','219_1','316_2','319_1','322_1','205_2','216_1','216_2','318_2','323_1','323_3','223_1','310_4', '332_2', '239_3','332_1']\n",
    "S5 = ['329_1','225_1','232_2','306_3','306_2','219_2','219_3','326_1','333_1','321_2','207_1','218_1','228_1','320_2','331_1','331_3','223_2', 'S318_3', 'S320_3','332_4']"
   ]
  },
  {
   "cell_type": "code",
   "execution_count": 3,
   "metadata": {},
   "outputs": [],
   "source": [
    "#Splitting participants (excluding test) into 5-folds.\n",
    "def RemoveTestSfromParticipants(S):\n",
    "    All = ['204_1','206_1','214_1','225_2','317_1','213_1','213_2','203_1','211_1','220_2',\n",
    "           '240_1','207_2','218_2','228_2','229_1','229_2','234_1', '215_3', '239_1','239_2',\n",
    "           '221_1','230_1','214_2','227_1','317_3','241_1','241_2','222_1','226_1','243_1',\n",
    "           '240_2','208_1','208_2','234_3','236_1','236_2','237_2', '310_1', '310_3','S321_1',\n",
    "           '231_1','233_1','217_2','227_2','242_2','213_3','241_3','308_3','312_2','313_3',\n",
    "           '205_1','209_1','209_2','237_3','238_2','238_3','318_1', '320_1', '215_1','215_2',\n",
    "           '244_1','324_1','217_3','232_1','242_3','219_1','316_2','319_1','322_1','205_2',\n",
    "           '216_1','216_2','318_2','323_1','323_3','223_1','310_4', '332_2', '239_3','332_1',\n",
    "           '329_1','225_1','232_2','306_3','306_2','219_2','219_3','326_1','333_1','321_2',\n",
    "           '207_1','218_1','228_1','320_2','331_1','331_3','223_2', 'S318_3', 'S320_3','332_4'] \n",
    "    for i in S: \n",
    "        if i in All:\n",
    "            All.remove(i)\n",
    "    return All"
   ]
  },
  {
   "cell_type": "code",
   "execution_count": 4,
   "metadata": {},
   "outputs": [],
   "source": [
    "def customSplit(train_val_par, n_folds=4):\n",
    "    folds = []\n",
    "    SplitSize = round(len(train_val_par)/n_folds) \n",
    "    for i in range(n_folds):\n",
    "        folds.append(train_val_par[(i*SplitSize):(i*SplitSize+SplitSize)])\n",
    "    return folds"
   ]
  },
  {
   "cell_type": "code",
   "execution_count": 5,
   "metadata": {},
   "outputs": [],
   "source": [
    "def CSV_writer(csv_path,combination):\n",
    "    for i in range(len(img_folders)):\n",
    "        path_folder = osp.join(data,img_folders[i])\n",
    "    #     print(path_folder)\n",
    "        for par in combination:\n",
    "            if path_folder.__contains__(par):\n",
    "    #             print(path_folder)\n",
    "                for p in anno:\n",
    "                    if par == p[0]:\n",
    "                        if int(p[1]) > 10:\n",
    "                            csv_path.write(path_folder+\" \"+\"1\"+\"\\n\")\n",
    "                        else:\n",
    "                            csv_path.write(path_folder+\" \"+\"0\"+\"\\n\")\n",
    "    csv_path.close()\n",
    "    "
   ]
  },
  {
   "cell_type": "code",
   "execution_count": 6,
   "metadata": {},
   "outputs": [],
   "source": [
    "EXP_TYPE = 'Classification/'\n",
    "COMB = 'AVEC'\n",
    "NUM = ['1','2','3','4','5']\n",
    "SPL = [S1,S2,S3,S4,S5]\n",
    "#Text file of image path for each of the above combinations\n",
    "textMAIN = '/timo/datasets/Dua/GRU-test/Data-Combinations/'\n",
    "textPATH = textMAIN+EXP_TYPE\n",
    "data = \"/timo/datasets/Dua/Datasets-other/AVEC-BDI\"\n",
    "img_folders = os.listdir(data)\n",
    "img_folders.sort()"
   ]
  },
  {
   "cell_type": "code",
   "execution_count": 7,
   "metadata": {},
   "outputs": [],
   "source": [
    "anno = []\n",
    "with open('/timo/datasets/Dua/GRU-test/AVEC-BDI-scores.csv') as csvfile:\n",
    "    reader = csv.reader(csvfile, delimiter=',')\n",
    "    for row in reader:\n",
    "        anno.append(row)"
   ]
  },
  {
   "cell_type": "code",
   "execution_count": 8,
   "metadata": {},
   "outputs": [],
   "source": [
    "for N in NUM:\n",
    "#     print(N)\n",
    "    test_set = SPL[int(N)-1]\n",
    "    train_val_par = RemoveTestSfromParticipants(test_set)\n",
    "    n_folds = customSplit(train_val_par, n_folds=4)\n",
    "    train= open(textPATH+COMB+'train'+N+'.txt',\"w\")\n",
    "    val= open(textPATH+COMB+'val'+N+'.txt',\"w\")\n",
    "    test= open(textPATH+COMB+'test'+N+'.txt',\"w\")\n",
    "    train_comb= n_folds[0]+n_folds[1]+n_folds[2]\n",
    "    val_comb=n_folds[3]\n",
    "    CSV_writer(train,train_comb)\n",
    "    CSV_writer(val,val_comb)\n",
    "    CSV_writer(test,test_set)"
   ]
  },
  {
   "cell_type": "code",
   "execution_count": 9,
   "metadata": {},
   "outputs": [],
   "source": [
    "# N = '1'\n",
    "# test_set = SPL[int(N)-1]\n",
    "# test= open(textPATH+COMB+'test'+N+'.txt',\"w\")"
   ]
  },
  {
   "cell_type": "code",
   "execution_count": 10,
   "metadata": {},
   "outputs": [],
   "source": [
    "# for i in range(len(img_folders)):\n",
    "#     path_folder = osp.join(data,img_folders[i])\n",
    "# #     print(path_folder)\n",
    "#     for par in test_set:\n",
    "#         if path_folder.__contains__(par):\n",
    "# #             print(path_folder)\n",
    "#             for p in anno:\n",
    "#                 if par == p[0]:\n",
    "#                     if int(p[1]) > 10:\n",
    "#                         test.write(path_folder+\" \"+\"1\"+\"\\n\")\n",
    "#                     else:\n",
    "#                         test.write(path_folder+\" \"+\"0\"+\"\\n\")\n"
   ]
  },
  {
   "cell_type": "code",
   "execution_count": null,
   "metadata": {},
   "outputs": [],
   "source": []
  }
 ],
 "metadata": {
  "kernelspec": {
   "display_name": "Python 3",
   "language": "python",
   "name": "python3"
  },
  "language_info": {
   "codemirror_mode": {
    "name": "ipython",
    "version": 3
   },
   "file_extension": ".py",
   "mimetype": "text/x-python",
   "name": "python",
   "nbconvert_exporter": "python",
   "pygments_lexer": "ipython3",
   "version": "3.7.9"
  }
 },
 "nbformat": 4,
 "nbformat_minor": 2
}
