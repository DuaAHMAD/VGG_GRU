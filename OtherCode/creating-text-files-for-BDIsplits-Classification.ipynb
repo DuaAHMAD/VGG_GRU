{
 "cells": [
  {
   "cell_type": "code",
   "execution_count": 1,
   "metadata": {},
   "outputs": [],
   "source": [
    "from fastai import *\n",
    "from fastai.vision import *\n",
    "from fastai.callbacks import CSVLogger\n",
    "import os.path as osp"
   ]
  },
  {
   "cell_type": "code",
   "execution_count": 2,
   "metadata": {},
   "outputs": [],
   "source": [
    "All_cont = ['Co_EmSp_300310','Co_StSt_040510', 'Co_ViHa_NOMS044', 'Co_DaMe_180510',\n",
    "            'Co_AnNa_NOMS051', 'Co_PaSo_300410', 'Co_StMc_NOMS063', 'Co_SaMe_020211', \n",
    "            'Co_ChGi_NOMS065', 'Co_MaBa_300910', 'Co_VaSi_NOMS069', 'Co_MoVi_100210', \n",
    "            'Co_InGi_NOMS060', 'Co_MiPl_NOMS034', 'Co_LiBe_NOMS038', 'Co_LeSm_100310', \n",
    "            'Co_CoPo_050510', 'Co_RoDu_021209', 'Co_JuSm_noms057', 'Co_AlCh_NOMS076', \n",
    "            'Co_JeFl_050510', 'Co_KaIy_NOMS055', 'Co_MeYo', 'Co_GlMa_210910', \n",
    "            'Co_CoTe_189111', 'Co_PrTh_210510', 'Co_BiLi_71209', 'Co_RoEl_081209', \n",
    "            'Co_KaHi_NOMS_040', 'CoAnBu_090510']\n",
    "\n",
    "            \n",
    "All_pat = ['Pa_MBI-3714_NOMS022','Pa_MB1-4307_NOMS061', 'Pa_GP9_NOMS046', 'Pa_IMC-2911', \n",
    "           'Pa_PF1-4631_NOMS081', 'Pa_PF1-3815_NOMS033', 'Pa_PF_3095', 'Pa_PF1-4213_NOMS058', \n",
    "           'Pa_PF1-4193_NOMS067', 'Pa_MHO-3219', 'Pa_HSI_3313', 'Pa_MB1-4149_NOMS050',\n",
    "           'Pa_MHO_3441', 'Pa_ARI-3248', 'Pa_MBI-3725_NOMS028', 'Pa_MHO_3659_NOMS014', \n",
    "           'Pa_HS1-4313_NOMS062', 'Pa_PF1-3769_noms32', 'Pa_PF13296', 'Pa_PF1_3601_noms017', \n",
    "           'Pa_MB1-4678_NOMS077', 'Pa_PF1_3524', 'Pa_HSI-2896', 'Pa_StCo', \n",
    "           'Pa_MHO3658_noms016Movie', 'Pa_PF_3147', 'Pa_PF1-4439_NOMS070', \n",
    "           'Pa_FiDs_GP11', 'Pa_HSI-1831','Pa_MHO_3377']"
   ]
  },
  {
   "cell_type": "code",
   "execution_count": 3,
   "metadata": {},
   "outputs": [],
   "source": [
    "All_BDI = ['Co_EmSp_300310','Co_StSt_040510', 'Co_ViHa_NOMS044', 'Co_DaMe_180510',\n",
    "            'Co_AnNa_NOMS051', 'Co_PaSo_300410', 'Co_StMc_NOMS063', 'Co_SaMe_020211', \n",
    "            'Co_ChGi_NOMS065', 'Co_MaBa_300910', 'Co_VaSi_NOMS069', 'Co_MoVi_100210', \n",
    "            'Co_InGi_NOMS060', 'Co_MiPl_NOMS034', 'Co_LiBe_NOMS038', 'Co_LeSm_100310', \n",
    "            'Co_CoPo_050510', 'Co_RoDu_021209', 'Co_JuSm_noms057', 'Co_AlCh_NOMS076', \n",
    "            'Co_JeFl_050510', 'Co_KaIy_NOMS055', 'Co_MeYo', 'Co_GlMa_210910', \n",
    "            'Co_CoTe_189111', 'Co_PrTh_210510', 'Co_BiLi_71209', 'Co_RoEl_081209', \n",
    "            'Co_KaHi_NOMS_040', 'CoAnBu_090510','Pa_MBI-3714_NOMS022','Pa_MB1-4307_NOMS061', \n",
    "            'Pa_GP9_NOMS046', 'Pa_IMC-2911', \n",
    "            'Pa_PF1-4631_NOMS081', 'Pa_PF1-3815_NOMS033', 'Pa_PF_3095', 'Pa_PF1-4213_NOMS058', \n",
    "            'Pa_PF1-4193_NOMS067', 'Pa_MHO-3219', 'Pa_HSI_3313', 'Pa_MB1-4149_NOMS050',\n",
    "            'Pa_MHO_3441', 'Pa_ARI-3248', 'Pa_MBI-3725_NOMS028', 'Pa_MHO_3659_NOMS014', \n",
    "            'Pa_HS1-4313_NOMS062', 'Pa_PF1-3769_noms32', 'Pa_PF13296', 'Pa_PF1_3601_noms017', \n",
    "            'Pa_MB1-4678_NOMS077', 'Pa_PF1_3524', 'Pa_HSI-2896', 'Pa_StCo', \n",
    "            'Pa_MHO3658_noms016Movie', 'Pa_PF_3147', 'Pa_PF1-4439_NOMS070', \n",
    "            'Pa_FiDs_GP11', 'Pa_HSI-1831','Pa_MHO_3377']"
   ]
  },
  {
   "cell_type": "code",
   "execution_count": 4,
   "metadata": {},
   "outputs": [],
   "source": [
    "def customSplit(All_Patients, All_Controls, n_folds=5):\n",
    "    folds = []\n",
    "    SplitSize = round(len(All_Patients)/n_folds) \n",
    "    for i in range(n_folds):\n",
    "        folds.append([All_Patients[(i*SplitSize):(i*SplitSize+SplitSize)], All_Controls[(i*SplitSize):(i*SplitSize+SplitSize)]])\n",
    "    return folds"
   ]
  },
  {
   "cell_type": "code",
   "execution_count": 5,
   "metadata": {},
   "outputs": [],
   "source": [
    "EXP_TYPE = 'Classification/'\n",
    "COMB = 'BDI'\n",
    "NUM = ['1','2','3','4','5']\n",
    "#Text file of image path for each of the above combinations\n",
    "textMAIN = '/timo/datasets/Dua/GRU-test/Data-Combinations/'\n",
    "textPATH = textMAIN+EXP_TYPE\n",
    "data = \"/timo/datasets/Dua/Datasets-other/AVEC-BDI\"\n",
    "img_folders = os.listdir(data)\n",
    "img_folders.sort()"
   ]
  },
  {
   "cell_type": "code",
   "execution_count": 6,
   "metadata": {},
   "outputs": [],
   "source": [
    "def RemoveTestCPfromParticipants(test_set_no,n_fold):\n",
    "    n_folds.remove(n_folds[test_set_no])\n",
    "    return n_folds"
   ]
  },
  {
   "cell_type": "code",
   "execution_count": 7,
   "metadata": {},
   "outputs": [],
   "source": [
    "def train_valSplit(n_folds):\n",
    "    val_id = len(n_folds)\n",
    "    val_set = []\n",
    "    train_set = []\n",
    "    ALL_sets = []\n",
    "    for i in range(val_id):\n",
    "        totalPa = []\n",
    "        totalCo = []\n",
    "        # for val index\n",
    "        for pa,co in n_folds[i:i+1]:\n",
    "            val_set = pa+co\n",
    "        # for train indexs\n",
    "        for pa,co in (n_folds[:i]+n_folds[i+1:]):\n",
    "            totalCo += co\n",
    "            totalPa += pa\n",
    "            train_set = totalCo + totalPa\n",
    "        ALL_sets.append([train_set, val_set])\n",
    "    return ALL_sets\n",
    "\n"
   ]
  },
  {
   "cell_type": "code",
   "execution_count": 8,
   "metadata": {},
   "outputs": [],
   "source": [
    "def CSV_writer(csv_path,img_folders,combination):\n",
    "    name = \"\"\n",
    "    for i in range(len(img_folders)):\n",
    "        path_folder = osp.join(data,img_folders[i])\n",
    "        for par in combination:\n",
    "            if path_folder.__contains__(par):\n",
    "                if par.startswith(\"Co\"):\n",
    "                    name = \"0\"\n",
    "                if par.startswith(\"Pa\"):\n",
    "                    name = \"1\"\n",
    "                csv_path.write(path_folder+\" \"+name+\"\\n\")       \n",
    "\n",
    "    csv_path.close()"
   ]
  },
  {
   "cell_type": "code",
   "execution_count": 9,
   "metadata": {},
   "outputs": [],
   "source": [
    "for N in NUM:\n",
    "    n_folds = customSplit(All_pat, All_cont, n_folds=5)\n",
    "    test_set_no = int(N)-1\n",
    "    test_set = n_folds[test_set_no]\n",
    "    n_folds = RemoveTestCPfromParticipants(test_set_no, n_folds)\n",
    "    trainset_valset = train_valSplit(n_folds)\n",
    "    train= open(textPATH+COMB+'train'+N+'.txt',\"w\")\n",
    "    val= open(textPATH+COMB+'val'+N+'.txt',\"w\")\n",
    "    test= open(textPATH+COMB+'test'+N+'.txt',\"w\")\n",
    "    train_comb=trainset_valset[0][0]\n",
    "    val_comb=trainset_valset[0][1]\n",
    "    test_set = test_set[0]+test_set[1]\n",
    "    CSV_writer(train,img_folders,train_comb)\n",
    "    CSV_writer(val,img_folders,val_comb)\n",
    "    CSV_writer(test,img_folders,test_set)   "
   ]
  },
  {
   "cell_type": "code",
   "execution_count": null,
   "metadata": {},
   "outputs": [],
   "source": []
  }
 ],
 "metadata": {
  "kernelspec": {
   "display_name": "Python 3",
   "language": "python",
   "name": "python3"
  },
  "language_info": {
   "codemirror_mode": {
    "name": "ipython",
    "version": 3
   },
   "file_extension": ".py",
   "mimetype": "text/x-python",
   "name": "python",
   "nbconvert_exporter": "python",
   "pygments_lexer": "ipython3",
   "version": "3.7.9"
  }
 },
 "nbformat": 4,
 "nbformat_minor": 2
}
