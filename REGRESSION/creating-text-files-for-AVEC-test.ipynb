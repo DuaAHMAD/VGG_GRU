{
 "cells": [
  {
   "cell_type": "code",
   "execution_count": 1,
   "metadata": {},
   "outputs": [],
   "source": [
    "from fastai import *\n",
    "from fastai.vision import *\n",
    "from fastai.callbacks import CSVLogger\n",
    "import os.path as osp"
   ]
  },
  {
   "cell_type": "code",
   "execution_count": 2,
   "metadata": {},
   "outputs": [],
   "source": [
    "All_cont = ['Co_EmSp_300310','Co_StSt_040510', 'Co_ViHa_NOMS044', 'Co_DaMe_180510',\n",
    "            'Co_AnNa_NOMS051', 'Co_PaSo_300410', 'Co_StMc_NOMS063', 'Co_SaMe_020211', \n",
    "            'Co_ChGi_NOMS065', 'Co_MaBa_300910', 'Co_VaSi_NOMS069', 'Co_MoVi_100210', \n",
    "            'Co_InGi_NOMS060', 'Co_MiPl_NOMS034', 'Co_LiBe_NOMS038', 'Co_LeSm_100310', \n",
    "            'Co_CoPo_050510', 'Co_RoDu_021209', 'Co_JuSm_noms057', 'Co_AlCh_NOMS076', \n",
    "            'Co_JeFl_050510', 'Co_KaIy_NOMS055', 'Co_MeYo', 'Co_GlMa_210910', \n",
    "            'Co_CoTe_189111', 'Co_PrTh_210510', 'Co_BiLi_71209', 'Co_RoEl_081209', \n",
    "            'Co_KaHi_NOMS_040', 'CoAnBu_090510']\n",
    "\n",
    "            \n",
    "All_pat = ['Pa_MBI-3714_NOMS022','Pa_MB1-4307_NOMS061', 'Pa_GP9_NOMS046', 'Pa_IMC-2911', \n",
    "           'Pa_PF1-4631_NOMS081', 'Pa_PF1-3815_NOMS033', 'Pa_PF_3095', 'Pa_PF1-4213_NOMS058', \n",
    "           'Pa_PF1-4193_NOMS067', 'Pa_MHO-3219', 'Pa_HSI_3313', 'Pa_MB1-4149_NOMS050',\n",
    "           'Pa_MHO_3441', 'Pa_ARI-3248', 'Pa_MBI-3725_NOMS028', 'Pa_MHO_3659_NOMS014', \n",
    "           'Pa_HS1-4313_NOMS062', 'Pa_PF1-3769_noms32', 'Pa_PF13296', 'Pa_PF1_3601_noms017', \n",
    "           'Pa_MB1-4678_NOMS077', 'Pa_PF1_3524', 'Pa_HSI-2896', 'Pa_StCo', \n",
    "           'Pa_MHO3658_noms016Movie', 'Pa_PF_3147', 'Pa_PF1-4439_NOMS070', \n",
    "           'Pa_FiDs_GP11', 'Pa_HSI-1831','Pa_MHO_3377']"
   ]
  },
  {
   "cell_type": "code",
   "execution_count": 3,
   "metadata": {},
   "outputs": [],
   "source": [
    "All_BDI = ['Co_EmSp_300310','Co_StSt_040510', 'Co_ViHa_NOMS044', 'Co_DaMe_180510',\n",
    "            'Co_AnNa_NOMS051', 'Co_PaSo_300410', 'Co_StMc_NOMS063', 'Co_SaMe_020211', \n",
    "            'Co_ChGi_NOMS065', 'Co_MaBa_300910', 'Co_VaSi_NOMS069', 'Co_MoVi_100210', \n",
    "            'Co_InGi_NOMS060', 'Co_MiPl_NOMS034', 'Co_LiBe_NOMS038', 'Co_LeSm_100310', \n",
    "            'Co_CoPo_050510', 'Co_RoDu_021209', 'Co_JuSm_noms057', 'Co_AlCh_NOMS076', \n",
    "            'Co_JeFl_050510', 'Co_KaIy_NOMS055', 'Co_MeYo', 'Co_GlMa_210910', \n",
    "            'Co_CoTe_189111', 'Co_PrTh_210510', 'Co_BiLi_71209', 'Co_RoEl_081209', \n",
    "            'Co_KaHi_NOMS_040', 'CoAnBu_090510','Pa_MBI-3714_NOMS022','Pa_MB1-4307_NOMS061', \n",
    "            'Pa_GP9_NOMS046', 'Pa_IMC-2911', \n",
    "            'Pa_PF1-4631_NOMS081', 'Pa_PF1-3815_NOMS033', 'Pa_PF_3095', 'Pa_PF1-4213_NOMS058', \n",
    "            'Pa_PF1-4193_NOMS067', 'Pa_MHO-3219', 'Pa_HSI_3313', 'Pa_MB1-4149_NOMS050',\n",
    "            'Pa_MHO_3441', 'Pa_ARI-3248', 'Pa_MBI-3725_NOMS028', 'Pa_MHO_3659_NOMS014', \n",
    "            'Pa_HS1-4313_NOMS062', 'Pa_PF1-3769_noms32', 'Pa_PF13296', 'Pa_PF1_3601_noms017', \n",
    "            'Pa_MB1-4678_NOMS077', 'Pa_PF1_3524', 'Pa_HSI-2896', 'Pa_StCo', \n",
    "            'Pa_MHO3658_noms016Movie', 'Pa_PF_3147', 'Pa_PF1-4439_NOMS070', \n",
    "            'Pa_FiDs_GP11', 'Pa_HSI-1831','Pa_MHO_3377']"
   ]
  },
  {
   "cell_type": "code",
   "execution_count": 4,
   "metadata": {},
   "outputs": [],
   "source": [
    "def customSplit(All_Patients, All_Controls, n_folds=5):\n",
    "    folds = []\n",
    "    SplitSize = round(len(All_Patients)/n_folds) \n",
    "    for i in range(n_folds):\n",
    "        folds.append([All_Patients[(i*SplitSize):(i*SplitSize+SplitSize)], All_Controls[(i*SplitSize):(i*SplitSize+SplitSize)]])\n",
    "    return folds"
   ]
  },
  {
   "cell_type": "code",
   "execution_count": 5,
   "metadata": {},
   "outputs": [],
   "source": [
    "n_folds = customSplit(All_pat, All_cont, n_folds=5)"
   ]
  },
  {
   "cell_type": "code",
   "execution_count": 6,
   "metadata": {},
   "outputs": [],
   "source": [
    "# test_set_no = 4 "
   ]
  },
  {
   "cell_type": "code",
   "execution_count": 7,
   "metadata": {},
   "outputs": [],
   "source": [
    "test_set = ['204_1','206_1','214_1','225_2','317_1','213_1','213_2','203_1','211_1','220_2',\n",
    "           '240_1','207_2','218_2','228_2','229_1','229_2','234_1', '215_3', '239_1','239_2',\n",
    "           '221_1','230_1','214_2','227_1','317_3','241_1','241_2','222_1','226_1','243_1',\n",
    "           '240_2','208_1','208_2','234_3','236_1','236_2','237_2', '310_1', '310_3','S321_1',\n",
    "           '231_1','233_1','217_2','227_2','242_2','213_3','241_3','308_3','312_2','313_3',\n",
    "           '205_1','209_1','209_2','237_3','238_2','238_3','318_1', '320_1', '215_1','215_2',\n",
    "           '244_1','324_1','217_3','232_1','242_3','219_1','316_2','319_1','322_1','205_2',\n",
    "           '216_1','216_2','318_2','323_1','323_3','223_1','310_4', '332_2', '239_3','332_1',\n",
    "           '329_1','225_1','232_2','306_3','306_2','219_2','219_3','326_1','333_1','321_2',\n",
    "           '207_1','218_1','228_1','320_2','331_1','331_3','223_2', 'S318_3', 'S320_3','332_4']"
   ]
  },
  {
   "cell_type": "code",
   "execution_count": 8,
   "metadata": {},
   "outputs": [],
   "source": [
    "# def RemoveTestCPfromParticipants(test_set_no,n_fold):\n",
    "#     n_folds.remove(n_folds[test_set_no])\n",
    "#     return n_folds"
   ]
  },
  {
   "cell_type": "code",
   "execution_count": 9,
   "metadata": {},
   "outputs": [],
   "source": [
    "# n_folds = RemoveTestCPfromParticipants(test_set_no, n_folds)"
   ]
  },
  {
   "cell_type": "code",
   "execution_count": 10,
   "metadata": {},
   "outputs": [],
   "source": [
    "# n_folds\n"
   ]
  },
  {
   "cell_type": "code",
   "execution_count": 11,
   "metadata": {},
   "outputs": [],
   "source": [
    "#Validation-train split. "
   ]
  },
  {
   "cell_type": "code",
   "execution_count": 12,
   "metadata": {},
   "outputs": [],
   "source": [
    "def train_valSplit(n_folds):\n",
    "    val_id = len(n_folds)\n",
    "    val_set = []\n",
    "    train_set = []\n",
    "    ALL_sets = []\n",
    "    for i in range(val_id):\n",
    "        totalPa = []\n",
    "        totalCo = []\n",
    "        # for val index\n",
    "        for pa,co in n_folds[i:i+1]:\n",
    "            val_set = pa+co\n",
    "        # for train indexs\n",
    "        for pa,co in (n_folds[:i]+n_folds[i+1:]):\n",
    "            totalCo += co\n",
    "            totalPa += pa\n",
    "            train_set = totalCo + totalPa\n",
    "        ALL_sets.append([train_set, val_set])\n",
    "    return ALL_sets"
   ]
  },
  {
   "cell_type": "code",
   "execution_count": 13,
   "metadata": {},
   "outputs": [],
   "source": [
    "trainset_valset = train_valSplit(n_folds)\n"
   ]
  },
  {
   "cell_type": "code",
   "execution_count": 14,
   "metadata": {},
   "outputs": [],
   "source": [
    "# trainset_valset[0][0]"
   ]
  },
  {
   "cell_type": "code",
   "execution_count": 15,
   "metadata": {},
   "outputs": [],
   "source": [
    "trn= \"AVEC-TESTtrain5.txt\"\n",
    "vl= \"AVEC-TESTval5.txt\"\n",
    "tst= \"AVEC-TESTtest.txt\""
   ]
  },
  {
   "cell_type": "code",
   "execution_count": 16,
   "metadata": {},
   "outputs": [],
   "source": [
    "train = open(\"/home/duaa/Desktop/GRU-test/emotion_classification-master/VGG_GRU/TrainTestlist/Emotiw/\"+trn,\"w\")\n",
    "val=  open(\"/home/duaa/Desktop/GRU-test/emotion_classification-master/VGG_GRU/TrainTestlist/Emotiw/\"+vl,\"w\")\n",
    "test=  open(\"/home/duaa/Desktop/GRU-test/emotion_classification-master/VGG_GRU/TrainTestlist/Emotiw/\"+tst,\"w\")"
   ]
  },
  {
   "cell_type": "code",
   "execution_count": 17,
   "metadata": {},
   "outputs": [],
   "source": [
    "data = \"/timo/datasets/Dua/Datasets-other/AVEC-BDI\""
   ]
  },
  {
   "cell_type": "code",
   "execution_count": 18,
   "metadata": {},
   "outputs": [],
   "source": [
    "img_folders = os.listdir(data)\n",
    "img_folders.sort()"
   ]
  },
  {
   "cell_type": "code",
   "execution_count": 19,
   "metadata": {},
   "outputs": [],
   "source": [
    "#work with one combo:\n",
    "n = 4\n",
    "train_comb= trainset_valset[n][0]\n",
    "val_comb=trainset_valset[n][1]\n",
    "# test_set = test_set"
   ]
  },
  {
   "cell_type": "code",
   "execution_count": 20,
   "metadata": {},
   "outputs": [],
   "source": [
    "# print(train_comb)"
   ]
  },
  {
   "cell_type": "code",
   "execution_count": 21,
   "metadata": {},
   "outputs": [],
   "source": [
    "# for par in train_comb:\n",
    "#     print (len(par))"
   ]
  },
  {
   "cell_type": "code",
   "execution_count": 22,
   "metadata": {},
   "outputs": [],
   "source": [
    "anno = []\n",
    "with open('/home/duaa/Desktop/GRU-test/AVEC-BDI-scores.csv') as csvfile:\n",
    "    reader = csv.reader(csvfile, delimiter=',')\n",
    "    for row in reader:\n",
    "        anno.append(row)"
   ]
  },
  {
   "cell_type": "code",
   "execution_count": 23,
   "metadata": {},
   "outputs": [],
   "source": [
    "name = \"\"\n",
    "for i in range(len(img_folders)):\n",
    "    path_folder = osp.join(data,img_folders[i])\n",
    "    for par in train_comb:\n",
    "        if path_folder.__contains__(par):\n",
    "            for p in anno:\n",
    "                if par == p[0]:\n",
    "                    train.write(path_folder+\" \"+p[1]+\"\\n\")       \n",
    "\n",
    "train.close()"
   ]
  },
  {
   "cell_type": "code",
   "execution_count": 24,
   "metadata": {},
   "outputs": [],
   "source": [
    "name = \"\"\n",
    "for i in range(len(img_folders)):\n",
    "    path_folder = osp.join(data,img_folders[i])\n",
    "    for par in val_comb:\n",
    "        if path_folder.__contains__(par):\n",
    "            for p in anno:\n",
    "                if par == p[0]:\n",
    "                    val.write(path_folder+\" \"+p[1]+\"\\n\")       \n",
    "\n",
    "val.close()"
   ]
  },
  {
   "cell_type": "code",
   "execution_count": 25,
   "metadata": {},
   "outputs": [],
   "source": [
    "# name = \"\"\n",
    "# for i in range(len(img_folders)):\n",
    "#     path_folder = osp.join(data,img_folders[i])\n",
    "#     for par in test_set:\n",
    "#         if path_folder.__contains__(par):\n",
    "#             for p in anno:\n",
    "#                 if par == p[0]:\n",
    "#                     test.write(path_folder+\" \"+p[1]+\"\\n\")       \n",
    "\n",
    "\n",
    "# test.close()"
   ]
  },
  {
   "cell_type": "code",
   "execution_count": null,
   "metadata": {},
   "outputs": [],
   "source": []
  }
 ],
 "metadata": {
  "kernelspec": {
   "display_name": "Python 3",
   "language": "python",
   "name": "python3"
  },
  "language_info": {
   "codemirror_mode": {
    "name": "ipython",
    "version": 3
   },
   "file_extension": ".py",
   "mimetype": "text/x-python",
   "name": "python",
   "nbconvert_exporter": "python",
   "pygments_lexer": "ipython3",
   "version": "3.7.9"
  }
 },
 "nbformat": 4,
 "nbformat_minor": 2
}
