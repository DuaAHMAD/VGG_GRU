{
 "cells": [
  {
   "cell_type": "code",
   "execution_count": 1,
   "metadata": {},
   "outputs": [],
   "source": [
    "from fastai import *\n",
    "from fastai.vision import *\n",
    "from fastai.callbacks import CSVLogger\n",
    "import os.path as osp"
   ]
  },
  {
   "cell_type": "code",
   "execution_count": 2,
   "metadata": {},
   "outputs": [],
   "source": [
    "S1 = ['204_1','206_1','214_1','225_2','317_1','213_1','213_2','203_1','211_1','220_2','240_1','207_2','218_2','228_2','229_1','229_2','234_1', '215_3', '239_1','239_2']\n",
    "S2 = ['221_1','230_1','214_2','227_1','317_3','241_1','241_2','222_1','226_1','243_1','240_2','208_1','208_2','234_3','236_1','236_2','237_2', '310_1', '310_3','S321_1']\n",
    "S3 = ['231_1','233_1','217_2','227_2','242_2','213_3','241_3','308_3','312_2','313_3','205_1','209_1','209_2','237_3','238_2','238_3','318_1', '320_1', '215_1','215_2']\n",
    "S4 = ['244_1','324_1','217_3','232_1','242_3','219_1','316_2','319_1','322_1','205_2','216_1','216_2','318_2','323_1','323_3','223_1','310_4', '332_2', '239_3','332_1']\n",
    "S5 = ['329_1','225_1','232_2','306_3','306_2','219_2','219_3','326_1','333_1','321_2','207_1','218_1','228_1','320_2','331_1','331_3','223_2', 'S318_3', 'S320_3','332_4']"
   ]
  },
  {
   "cell_type": "code",
   "execution_count": 3,
   "metadata": {},
   "outputs": [],
   "source": [
    "All_par = ['204_1','206_1','214_1','225_2','317_1','213_1','213_2','203_1','211_1','220_2',\n",
    "           '240_1','207_2','218_2','228_2','229_1','229_2','234_1', '215_3', '239_1','239_2',\n",
    "           '221_1','230_1','214_2','227_1','317_3','241_1','241_2','222_1','226_1','243_1',\n",
    "           '240_2','208_1','208_2','234_3','236_1','236_2','237_2', '310_1', '310_3','S321_1',\n",
    "           '231_1','233_1','217_2','227_2','242_2','213_3','241_3','308_3','312_2','313_3',\n",
    "           '205_1','209_1','209_2','237_3','238_2','238_3','318_1', '320_1', '215_1','215_2',\n",
    "           '244_1','324_1','217_3','232_1','242_3','219_1','316_2','319_1','322_1','205_2',\n",
    "           '216_1','216_2','318_2','323_1','323_3','223_1','310_4', '332_2', '239_3','332_1',\n",
    "           '329_1','225_1','232_2','306_3','306_2','219_2','219_3','326_1','333_1','321_2',\n",
    "           '207_1','218_1','228_1','320_2','331_1','331_3','223_2', 'S318_3', 'S320_3','332_4']"
   ]
  },
  {
   "cell_type": "code",
   "execution_count": 4,
   "metadata": {},
   "outputs": [],
   "source": [
    "#Splitting participants (excluding test) into 5-folds.\n",
    "def RemoveTestSfromParticipants(S, All_par):\n",
    "    for i in S: \n",
    "        All_par.remove(i)\n",
    "    return All_par"
   ]
  },
  {
   "cell_type": "code",
   "execution_count": 5,
   "metadata": {},
   "outputs": [],
   "source": [
    "train_val_par = RemoveTestSfromParticipants(S5, All_par)"
   ]
  },
  {
   "cell_type": "code",
   "execution_count": 6,
   "metadata": {},
   "outputs": [],
   "source": [
    "test_set = S5"
   ]
  },
  {
   "cell_type": "code",
   "execution_count": 7,
   "metadata": {},
   "outputs": [
    {
     "data": {
      "text/plain": [
       "80"
      ]
     },
     "execution_count": 7,
     "metadata": {},
     "output_type": "execute_result"
    }
   ],
   "source": [
    "len(train_val_par)"
   ]
  },
  {
   "cell_type": "code",
   "execution_count": 8,
   "metadata": {},
   "outputs": [],
   "source": [
    "def customSplit(train_val_par, n_folds=4):\n",
    "    folds = []\n",
    "    SplitSize = round(len(train_val_par)/n_folds) \n",
    "    for i in range(n_folds):\n",
    "        folds.append(train_val_par[(i*SplitSize):(i*SplitSize+SplitSize)])\n",
    "    return folds"
   ]
  },
  {
   "cell_type": "code",
   "execution_count": 9,
   "metadata": {},
   "outputs": [],
   "source": [
    "n_folds = customSplit(train_val_par, n_folds=4)"
   ]
  },
  {
   "cell_type": "code",
   "execution_count": 10,
   "metadata": {},
   "outputs": [],
   "source": [
    "# n_folds"
   ]
  },
  {
   "cell_type": "code",
   "execution_count": 11,
   "metadata": {},
   "outputs": [
    {
     "data": {
      "text/plain": [
       "20"
      ]
     },
     "execution_count": 11,
     "metadata": {},
     "output_type": "execute_result"
    }
   ],
   "source": [
    "# trainset_valset = train_valSplit(n_folds)\n",
    "len(n_folds[0])"
   ]
  },
  {
   "cell_type": "code",
   "execution_count": null,
   "metadata": {},
   "outputs": [],
   "source": []
  },
  {
   "cell_type": "code",
   "execution_count": 12,
   "metadata": {},
   "outputs": [],
   "source": [
    "trn= \"AVECtrain5.txt\"\n",
    "vl= \"AVECval5.txt\"\n",
    "tst= \"AVECtest5.txt\""
   ]
  },
  {
   "cell_type": "code",
   "execution_count": 13,
   "metadata": {},
   "outputs": [],
   "source": [
    "train = open(\"/home/duaa/Desktop/GRU-test/emotion_classification-master/VGG_GRU/TrainTestlist/Emotiw/\"+trn,\"w\")\n",
    "val=  open(\"/home/duaa/Desktop/GRU-test/emotion_classification-master/VGG_GRU/TrainTestlist/Emotiw/\"+vl,\"w\")\n",
    "test=  open(\"/home/duaa/Desktop/GRU-test/emotion_classification-master/VGG_GRU/TrainTestlist/Emotiw/\"+tst,\"w\")"
   ]
  },
  {
   "cell_type": "code",
   "execution_count": 14,
   "metadata": {},
   "outputs": [],
   "source": [
    "data = \"/timo/datasets/Dua/Datasets-other/AVEC-BDI\""
   ]
  },
  {
   "cell_type": "code",
   "execution_count": 15,
   "metadata": {},
   "outputs": [],
   "source": [
    "img_folders = os.listdir(data)\n",
    "img_folders.sort()"
   ]
  },
  {
   "cell_type": "code",
   "execution_count": 16,
   "metadata": {},
   "outputs": [],
   "source": [
    "#work with one combo:\n",
    "train_comb= n_folds[0]+n_folds[1]+n_folds[2]\n",
    "val_comb=n_folds[3]\n",
    "test_set = test_set\n",
    "# print(img_folders)"
   ]
  },
  {
   "cell_type": "code",
   "execution_count": 17,
   "metadata": {},
   "outputs": [],
   "source": [
    "img_folders = os.listdir(data)\n",
    "img_folders.sort()"
   ]
  },
  {
   "cell_type": "code",
   "execution_count": 18,
   "metadata": {},
   "outputs": [],
   "source": [
    "anno = []\n",
    "with open('/home/duaa/Desktop/GRU-test/AVEC-BDI-scores.csv') as csvfile:\n",
    "    reader = csv.reader(csvfile, delimiter=',')\n",
    "    for row in reader:\n",
    "        anno.append(row)\n",
    "        "
   ]
  },
  {
   "cell_type": "code",
   "execution_count": 19,
   "metadata": {},
   "outputs": [],
   "source": [
    "name = \"\"\n",
    "for i in range(len(img_folders)):\n",
    "    path_folder = osp.join(data,img_folders[i])\n",
    "    for par in train_comb:\n",
    "        if path_folder.__contains__(par):\n",
    "            for p in anno:\n",
    "                if par == p[0]:\n",
    "                    train.write(path_folder+\" \"+p[1]+\"\\n\")       \n",
    "\n",
    "train.close()\n"
   ]
  },
  {
   "cell_type": "code",
   "execution_count": 20,
   "metadata": {},
   "outputs": [],
   "source": [
    "name = \"\"\n",
    "for i in range(len(img_folders)):\n",
    "    path_folder = osp.join(data,img_folders[i])\n",
    "    for par in val_comb:\n",
    "        if path_folder.__contains__(par):\n",
    "            for p in anno:\n",
    "                if par == p[0]:\n",
    "                    val.write(path_folder+\" \"+p[1]+\"\\n\")       \n",
    "\n",
    "val.close()"
   ]
  },
  {
   "cell_type": "code",
   "execution_count": 21,
   "metadata": {},
   "outputs": [],
   "source": [
    "name = \"\"\n",
    "for i in range(len(img_folders)):\n",
    "    path_folder = osp.join(data,img_folders[i])\n",
    "    for par in test_set:\n",
    "        if path_folder.__contains__(par):\n",
    "            for p in anno:\n",
    "                if par == p[0]:\n",
    "                    test.write(path_folder+\" \"+p[1]+\"\\n\")       \n",
    "\n",
    "\n",
    "test.close()"
   ]
  }
 ],
 "metadata": {
  "kernelspec": {
   "display_name": "Python 3",
   "language": "python",
   "name": "python3"
  },
  "language_info": {
   "codemirror_mode": {
    "name": "ipython",
    "version": 3
   },
   "file_extension": ".py",
   "mimetype": "text/x-python",
   "name": "python",
   "nbconvert_exporter": "python",
   "pygments_lexer": "ipython3",
   "version": "3.7.9"
  }
 },
 "nbformat": 4,
 "nbformat_minor": 2
}
