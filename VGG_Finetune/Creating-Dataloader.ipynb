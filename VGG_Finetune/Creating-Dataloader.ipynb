{
 "cells": [
  {
   "cell_type": "code",
   "execution_count": 13,
   "metadata": {},
   "outputs": [],
   "source": [
    "# https://pytorch.org/tutorials/beginner/data_loading_tutorial.html\n",
    "class DepressionDataset():\n",
    "    \"\"\"Face Landmarks dataset.\"\"\"\n",
    "\n",
    "    def __init__(self, csv_file, transform=None):\n",
    "        \"\"\"\n",
    "        Args:\n",
    "            csv_file (string): Path to the csv file with annotations.\n",
    "            transform (callable, optional): Optional transform to be applied\n",
    "                on a sample.\n",
    "        \"\"\"\n",
    "        with open(csv_file, 'r') as file:\n",
    "            self.lines = file.readlines()\n",
    "        self.transform = transform\n",
    "\n",
    "    def __len__(self):\n",
    "        return len(self.lines)\n",
    "\n",
    "    def __getitem__(self, idx):\n",
    "        idx = len(self.lines)\n",
    "\n",
    "        for i in range(idx):\n",
    "            info = self.lines[i].rstrip()\n",
    "            par_name = info.split(\" \")[0]\n",
    "            label = info.split(\" \")[1]\n",
    "            imgs = os.listdir(par_name)\n",
    "            imgs.sort()\n",
    "            for img in range(idx):\n",
    "                img_path = par_name+\"/\"+imgs[img]\n",
    "                image = io.imread(img_path)\n",
    "                sample = {'image': image, 'label': label}\n",
    "\n",
    "        if self.transform:\n",
    "            sample = self.transform(sample)\n",
    "\n",
    "        return sample"
   ]
  },
  {
   "cell_type": "code",
   "execution_count": null,
   "metadata": {},
   "outputs": [],
   "source": [
    "# face_dataset = FaceLandmarksDataset(csv_file='data/faces/face_landmarks.csv',\n",
    "#                                     root_dir='data/faces/')\n",
    "\n",
    "# fig = plt.figure()\n",
    "\n",
    "# for i in range(len(face_dataset)):\n",
    "#     sample = face_dataset[i]\n",
    "\n",
    "#     print(i, sample['image'].shape, sample['landmarks'].shape)\n",
    "\n",
    "#     ax = plt.subplot(1, 4, i + 1)\n",
    "#     plt.tight_layout()\n",
    "#     ax.set_title('Sample #{}'.format(i))\n",
    "#     ax.axis('off')\n",
    "#     show_landmarks(**sample)\n",
    "\n",
    "#     if i == 3:\n",
    "#         plt.show()\n",
    "#         break\n",
    "        "
   ]
  },
  {
   "cell_type": "code",
   "execution_count": 18,
   "metadata": {},
   "outputs": [],
   "source": [
    "import os\n",
    "import csv\n",
    "import cv2\n",
    "import matplotlib.pyplot as plt\n",
    "from skimage import io, transform"
   ]
  },
  {
   "cell_type": "code",
   "execution_count": 19,
   "metadata": {},
   "outputs": [],
   "source": [
    "EXP_TYPE = 'Classification/'\n",
    "textMAIN = '/timo/datasets/Dua/GRU-test/Data-Combinations/'\n",
    "textPATH = textMAIN+EXP_TYPE\n",
    "COMB = ['BDI','AVEC','AVEC-BDI','AVEC-TEST','BDI-TEST']\n",
    "NUM = ['1','2','3','4','5']\n",
    "trainlist=textPATH+COMB[0]+'train'+NUM[0]+'.txt'"
   ]
  },
  {
   "cell_type": "code",
   "execution_count": 20,
   "metadata": {},
   "outputs": [],
   "source": [
    "x = DepressionDataset(csv_file = trainlist)"
   ]
  },
  {
   "cell_type": "code",
   "execution_count": 23,
   "metadata": {},
   "outputs": [
    {
     "name": "stdout",
     "output_type": "stream",
     "text": [
      "0 (80, 90, 3) 1\n",
      "1 (80, 90, 3) 1\n",
      "2 (80, 90, 3) 1\n",
      "3 (80, 90, 3) 1\n"
     ]
    },
    {
     "data": {
      "image/png": "[encoded data removed]",
      "text/plain": [
       "<Figure size 432x288 with 4 Axes>"
      ]
     },
     "metadata": {
      "needs_background": "light"
     },
     "output_type": "display_data"
    }
   ],
   "source": [
    "fig = plt.figure()\n",
    "\n",
    "for i in range(len(x)):\n",
    "    sample = x[i]\n",
    "\n",
    "    print(i, sample['image'].shape, sample['label'])\n",
    "\n",
    "    ax = plt.subplot(1, 4, i + 1)\n",
    "    plt.tight_layout()\n",
    "    ax.set_title('Sample #{}'.format(i))\n",
    "    ax.axis('off')\n",
    "\n",
    "    if i == 3:\n",
    "        plt.show()\n",
    "        break"
   ]
  },
  {
   "cell_type": "code",
   "execution_count": null,
   "metadata": {},
   "outputs": [],
   "source": [
    "# csv_file = ''\n",
    "with open(trainlist, 'r') as file:\n",
    "    lines = file.readlines()\n",
    "\n",
    "for i in range(len(lines)):\n",
    "    imgpath = lines[i].rstrip()\n",
    "    img_path = imgpath.split(\" \")[0]\n",
    "#     print(img_path)\n",
    "    label = imgpath.split(\" \")[1]\n",
    "    imgs = os.listdir(img_path)\n",
    "    imgs.sort()\n",
    "    for img in range(len(imgs)):\n",
    "        full_path = img_path+\"/\"+imgs[img]\n",
    "        image = io.imread(full_path)\n",
    "        sample = {'image': image, 'label': label}\n",
    "        print(image.shape)\n",
    "# if label == 0: \n",
    "#     print(image)\n",
    "\n",
    "#         print(img_path+\"/\"+imgs[img], label)"
   ]
  },
  {
   "cell_type": "code",
   "execution_count": null,
   "metadata": {},
   "outputs": [],
   "source": []
  },
  {
   "cell_type": "code",
   "execution_count": null,
   "metadata": {},
   "outputs": [],
   "source": []
  }
 ],
 "metadata": {
  "kernelspec": {
   "display_name": "Python 3",
   "language": "python",
   "name": "python3"
  },
  "language_info": {
   "codemirror_mode": {
    "name": "ipython",
    "version": 3
   },
   "file_extension": ".py",
   "mimetype": "text/x-python",
   "name": "python",
   "nbconvert_exporter": "python",
   "pygments_lexer": "ipython3",
   "version": "3.7.9"
  }
 },
 "nbformat": 4,
 "nbformat_minor": 4
}
